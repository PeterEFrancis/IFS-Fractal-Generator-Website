{
 "cells": [
  {
   "cell_type": "markdown",
   "metadata": {
    "collapsed": false
   },
   "source": [
    "$$\\text{\\Huge Scrap Work}$$"
   ]
  },
  {
   "cell_type": "code",
   "execution_count": 9,
   "metadata": {
    "collapsed": false
   },
   "outputs": [
   ],
   "source": [
    "import numpy as np\n",
    "from numba import njit\n",
    "import math\n",
    "import itertools as it\n",
    "import random as rd\n",
    "import time\n",
    "import matplotlib.pyplot as plt\n",
    "from PIL import Image"
   ]
  },
  {
   "cell_type": "code",
   "execution_count": 2,
   "metadata": {
    "collapsed": false
   },
   "outputs": [
   ],
   "source": [
    "a = 1\n",
    "b = a"
   ]
  },
  {
   "cell_type": "code",
   "execution_count": 10,
   "metadata": {
    "collapsed": false
   },
   "outputs": [
   ],
   "source": [
    "def test(a, b=3):\n",
    "    return a+b"
   ]
  },
  {
   "cell_type": "code",
   "execution_count": 20,
   "metadata": {
    "collapsed": false
   },
   "outputs": [
    {
     "data": {
      "text/plain": [
       "6"
      ]
     },
     "execution_count": 20,
     "metadata": {
     },
     "output_type": "execute_result"
    }
   ],
   "source": [
    "test(a=3,)"
   ]
  },
  {
   "cell_type": "code",
   "execution_count": 11,
   "metadata": {
    "collapsed": false
   },
   "outputs": [
    {
     "data": {
      "text/plain": [
       "array([2.  , 2.25, 2.5 , 2.75, 3.  , 3.25, 3.5 , 3.75, 4.  , 4.25])"
      ]
     },
     "execution_count": 11,
     "metadata": {
     },
     "output_type": "execute_result"
    }
   ],
   "source": [
    "np.arange(2,4.5,.25)"
   ]
  },
  {
   "cell_type": "code",
   "execution_count": 13,
   "metadata": {
    "collapsed": false
   },
   "outputs": [
    {
     "ename": "IndexError",
     "evalue": "image index out of range",
     "output_type": "error",
     "traceback": [
      "\u001b[0;31m---------------------------------------------------------------------------\u001b[0m",
      "\u001b[0;31mIndexError\u001b[0m                                Traceback (most recent call last)",
      "\u001b[0;32m<ipython-input-13-2f92fff5f6e4>\u001b[0m in \u001b[0;36m<module>\u001b[0;34m()\u001b[0m\n\u001b[1;32m     15\u001b[0m         \u001b[0mh\u001b[0m\u001b[0;34m,\u001b[0m \u001b[0mk\u001b[0m \u001b[0;34m=\u001b[0m \u001b[0mwidth\u001b[0m\u001b[0;34m*\u001b[0m\u001b[0;34m(\u001b[0m\u001b[0mx\u001b[0m\u001b[0;34m+\u001b[0m\u001b[0;36m2\u001b[0m\u001b[0;34m)\u001b[0m\u001b[0;34m/\u001b[0m\u001b[0;34m(\u001b[0m\u001b[0;36m2\u001b[0m\u001b[0;34m)\u001b[0m\u001b[0;34m,\u001b[0m \u001b[0mheight\u001b[0m\u001b[0;34m*\u001b[0m\u001b[0;34m(\u001b[0m\u001b[0;36m1\u001b[0m\u001b[0;34m-\u001b[0m\u001b[0my\u001b[0m\u001b[0;34m)\u001b[0m\u001b[0;34m/\u001b[0m\u001b[0;34m(\u001b[0m\u001b[0;36m2\u001b[0m\u001b[0;34m)\u001b[0m\u001b[0;34m\u001b[0m\u001b[0;34m\u001b[0m\u001b[0m\n\u001b[1;32m     16\u001b[0m     \u001b[0;32mif\u001b[0m \u001b[0miterate\u001b[0m\u001b[0;34m(\u001b[0m\u001b[0mh\u001b[0m\u001b[0;34m,\u001b[0m\u001b[0mk\u001b[0m\u001b[0;34m,\u001b[0m\u001b[0;36m1000\u001b[0m\u001b[0;34m)\u001b[0m\u001b[0;34m:\u001b[0m\u001b[0;34m\u001b[0m\u001b[0;34m\u001b[0m\u001b[0m\n\u001b[0;32m---> 17\u001b[0;31m         \u001b[0mpixels\u001b[0m\u001b[0;34m[\u001b[0m\u001b[0mh\u001b[0m\u001b[0;34m,\u001b[0m\u001b[0mk\u001b[0m\u001b[0;34m]\u001b[0m \u001b[0;34m=\u001b[0m \u001b[0;34m(\u001b[0m\u001b[0;36m0\u001b[0m\u001b[0;34m,\u001b[0m \u001b[0;36m0\u001b[0m\u001b[0;34m,\u001b[0m \u001b[0;36m255\u001b[0m\u001b[0;34m)\u001b[0m\u001b[0;34m\u001b[0m\u001b[0;34m\u001b[0m\u001b[0m\n\u001b[0m\u001b[1;32m     18\u001b[0m \u001b[0mplt\u001b[0m\u001b[0;34m.\u001b[0m\u001b[0mimshow\u001b[0m\u001b[0;34m(\u001b[0m\u001b[0mnp\u001b[0m\u001b[0;34m.\u001b[0m\u001b[0masarray\u001b[0m\u001b[0;34m(\u001b[0m\u001b[0mpic\u001b[0m\u001b[0;34m)\u001b[0m\u001b[0;34m)\u001b[0m\u001b[0;34m\u001b[0m\u001b[0;34m\u001b[0m\u001b[0m\n",
      "\u001b[0;31mIndexError\u001b[0m: image index out of range"
     ]
    }
   ],
   "source": [
    "def iterate(x,y,n):\n",
    "    z = 0\n",
    "    for _ in range(n):\n",
    "        z = z**2 + (x + 1J*y)\n",
    "    return z\n",
    "\n",
    "width = 1000\n",
    "height = 1000\n",
    "\n",
    "pic = Image.new('RGB', (width+100,height+100), (255, 255, 255))\n",
    "pixels = pic.load()\n",
    "\n",
    "for x in range(width):\n",
    "    for y in range(height):\n",
    "        h, k = width*(x+2)/(2), height*(1-y)/(2)\n",
    "    if iterate(h,k,1000):\n",
    "        pixels[h,k] = (0, 0, 255)\n",
    "plt.imshow(np.asarray(pic))"
   ]
  },
  {
   "cell_type": "code",
   "execution_count": 24,
   "metadata": {
    "collapsed": false
   },
   "outputs": [
   ],
   "source": [
    "a = (np.array([1,2,3]),np.array([2,4,6]))"
   ]
  },
  {
   "cell_type": "code",
   "execution_count": 27,
   "metadata": {
    "collapsed": false
   },
   "outputs": [
   ],
   "source": [
    "c = np.array([*a])"
   ]
  },
  {
   "cell_type": "code",
   "execution_count": 29,
   "metadata": {
    "collapsed": false
   },
   "outputs": [
    {
     "name": "stdout",
     "output_type": "stream",
     "text": [
      "[[1 2 3]\n",
      " [2 4 6]]\n"
     ]
    }
   ],
   "source": [
    "print(c)"
   ]
  },
  {
   "cell_type": "code",
   "execution_count": 29,
   "metadata": {
    "collapsed": false
   },
   "outputs": [
   ],
   "source": [
    "@njit\n",
    "def testFunction(a:int,b=np.array([3,1.])):\n",
    "    return b*a"
   ]
  },
  {
   "cell_type": "code",
   "execution_count": 30,
   "metadata": {
    "collapsed": false
   },
   "outputs": [
    {
     "data": {
      "text/plain": [
       "array([9., 3.])"
      ]
     },
     "execution_count": 30,
     "metadata": {
     },
     "output_type": "execute_result"
    }
   ],
   "source": [
    "testFunction(3)"
   ]
  },
  {
   "cell_type": "code",
   "execution_count": 22,
   "metadata": {
    "collapsed": false
   },
   "outputs": [
    {
     "data": {
      "text/plain": [
       "[0, 1, 2, 3, 4, 5, 6, 7, 8, 9]"
      ]
     },
     "execution_count": 22,
     "metadata": {
     },
     "output_type": "execute_result"
    }
   ],
   "source": [
    "list(range(10))"
   ]
  },
  {
   "cell_type": "code",
   "execution_count": 1,
   "metadata": {
    "collapsed": false
   },
   "outputs": [
   ],
   "source": [
    "def test(a):\n",
    "    if a == 3:\n",
    "        return None\n",
    "    else:\n",
    "        return a"
   ]
  },
  {
   "cell_type": "code",
   "execution_count": 2,
   "metadata": {
    "collapsed": false
   },
   "outputs": [
   ],
   "source": [
    "test(3)"
   ]
  },
  {
   "cell_type": "code",
   "execution_count": 16,
   "metadata": {
    "collapsed": false
   },
   "outputs": [
   ],
   "source": [
    "A = np.array([0.])"
   ]
  },
  {
   "cell_type": "code",
   "execution_count": 20,
   "metadata": {
    "collapsed": false
   },
   "outputs": [
    {
     "data": {
      "text/plain": [
       "numpy.float64"
      ]
     },
     "execution_count": 20,
     "metadata": {
     },
     "output_type": "execute_result"
    }
   ],
   "source": [
    "type(A[0])"
   ]
  },
  {
   "cell_type": "code",
   "execution_count": 3,
   "metadata": {
    "collapsed": false
   },
   "outputs": [
   ],
   "source": [
    "def makeARandBinary(n,m):\n",
    "    out = np.random.rand(n,m)\n",
    "    for i in np.arange(len(out)):\n",
    "        for j in np.arange(len(out[i])):\n",
    "            out[i][j] = round(out[i][j])\n",
    "    return out"
   ]
  },
  {
   "cell_type": "code",
   "execution_count": 4,
   "metadata": {
    "collapsed": false
   },
   "outputs": [
   ],
   "source": [
    "def makeKindOfConvexRows(array):\n",
    "    for row in array:\n",
    "        index = 0\n",
    "        while index < len(row):\n",
    "            if row[index] == 1:\n",
    "                for i in np.arange(index+1,len(row)):\n",
    "                    if row[i] == 1:\n",
    "                        row[index:i] = 1\n",
    "                        index = i\n",
    "            index = index + 1\n",
    "    return array\n",
    "\n",
    "def makeKindOfConvex(array):\n",
    "    return makeKindOfConvexRows(makeKindOfConvexRows(makeKindOfConvexRows(makeKindOfConvexRows(array).T).T).T).T\n",
    "\n",
    "def Force_plot(A,n):\n",
    "    plt.rcParams['figure.figsize'] = [n, n]\n",
    "    img = plt.pcolor(A, alpha=0.8, cmap=\"tab20\", edgecolors='k', linewidths=2)\n",
    "    plt.axis('off')\n",
    "    plt.show()"
   ]
  },
  {
   "cell_type": "code",
   "execution_count": 6,
   "metadata": {
    "collapsed": false
   },
   "outputs": [
    {
     "data": {
      "image/png": "[encoded data removed]",
      "text/plain": [
       "<matplotlib.figure.Figure at 0x7f6e7b5afa90>"
      ]
     },
     "execution_count": 6,
     "metadata": {
      "image/png": {
       "height": 415,
       "width": 431
      }
     },
     "output_type": "execute_result"
    }
   ],
   "source": [
    "Force_plot(makeKindOfConvex(makeARandBinary(10,10)),7)"
   ]
  },
  {
   "cell_type": "code",
   "execution_count": 98,
   "metadata": {
    "collapsed": false
   },
   "outputs": [
   ],
   "source": [
    "def delay(arg):\n",
    "    start = time.time()\n",
    "    time.sleep(1)\n",
    "    print(time.time()-start)"
   ]
  },
  {
   "cell_type": "code",
   "execution_count": 99,
   "metadata": {
    "collapsed": false,
    "scrolled": true
   },
   "outputs": [
    {
     "name": "stdout",
     "output_type": "stream",
     "text": [
      "1.0014028549194336\n",
      "1.0063648223876953\n"
     ]
    }
   ],
   "source": [
    "start = time.time()\n",
    "delay(2**999999)\n",
    "print(time.time()-start)"
   ]
  },
  {
   "cell_type": "code",
   "execution_count": 100,
   "metadata": {
    "collapsed": false
   },
   "outputs": [
    {
     "name": "stdout",
     "output_type": "stream",
     "text": [
      "5.48 ms ± 819 µs per loop (mean ± std. dev. of 7 runs, 100 loops each)\n"
     ]
    }
   ],
   "source": [
    "%timeit 2**999999"
   ]
  },
  {
   "cell_type": "code",
   "execution_count": 16,
   "metadata": {
    "collapsed": false
   },
   "outputs": [
   ],
   "source": [
    "A = np.array([[0,0,0,0,0,0,0,1,0,1,0],\n",
    "              [0,0,0,0,0,0,0,1,0,0,0],\n",
    "              [0,1,0,0,1,0,1,1,0,1,0],\n",
    "              [0,0,0,1,1,0,0,1,0,1,0],\n",
    "              [0,1,1,1,1,0,1,1,0,1,0],\n",
    "              [0,0,0,0,1,0,0,1,0,1,0],\n",
    "              [0,0,0,0,1,0,0,1,0,1,0],\n",
    "              [0,0,0,0,0,0,0,0,0,0,0]])"
   ]
  },
  {
   "cell_type": "code",
   "execution_count": 118,
   "metadata": {
    "collapsed": false
   },
   "outputs": [
    {
     "name": "stdout",
     "output_type": "stream",
     "text": [
      "[-0.37228132  5.37228132]\n"
     ]
    }
   ],
   "source": [
    "Matrix = np.array([[1,2],[3,4]])\n",
    "\n",
    "print(np.linalg.eig(Matrix)[0])"
   ]
  },
  {
   "cell_type": "code",
   "execution_count": 30,
   "metadata": {
    "collapsed": false
   },
   "outputs": [
   ],
   "source": [
    "import imageio\n",
    "images = []\n",
    "for filename in [f'New Projects and Problems/SavedPics/{i}.png' for i in np.arange(1,1000)]:\n",
    "    images.append(imageio.imread(filename))\n",
    "imageio.mimsave('movie.gif', images)"
   ]
  },
  {
   "cell_type": "code",
   "execution_count": 22,
   "metadata": {
    "collapsed": false
   },
   "outputs": [
   ],
   "source": [
    "@njit\n",
    "def newDot(a,b):\n",
    "    return np.dot(a,b)"
   ]
  },
  {
   "cell_type": "code",
   "execution_count": 26,
   "metadata": {
    "collapsed": false
   },
   "outputs": [
   ],
   "source": [
    "@njit\n",
    "def multAv(A,v):\n",
    "    return np.array([newDot(A[0][0,1],v)+A[0][2],newDot(A[1][0,1],v)+A[1][2],newDot(A[2][0,1],v)+A[2][2]],  dtype=np.float64)"
   ]
  },
  {
   "cell_type": "code",
   "execution_count": 18,
   "metadata": {
    "collapsed": false
   },
   "outputs": [
   ],
   "source": [
    "@njit\n",
    "def mult3x3by3x1(A,v):\n",
    "    return np.array([A[0][0]*v[0]+A[0][1]*v[1]+A[0][2],\n",
    "                     A[1][0]*v[0]+A[1][1]*v[1]+A[1][2],\n",
    "                     A[2][0]*v[0]+A[2][1]*v[1]+A[2][2]],  dtype=np.float64)"
   ]
  },
  {
   "cell_type": "code",
   "execution_count": 28,
   "metadata": {
    "collapsed": false
   },
   "outputs": [
    {
     "name": "stdout",
     "output_type": "stream",
     "text": [
      "1.53 µs ± 218 ns per loop (mean ± std. dev. of 7 runs, 1000000 loops each)\n"
     ]
    },
    {
     "ename": "TypingError",
     "evalue": "Failed in nopython mode pipeline (step: nopython frontend)\n\u001b[1m\u001b[1m\u001b[1mInvalid use of Function(<built-in function getitem>) with argument(s) of type(s): (array(float64, 1d, C), tuple(int64 x 2))\n * parameterized\n\u001b[1mIn definition 0:\u001b[0m\n\u001b[1m    All templates rejected with literals.\u001b[0m\n\u001b[1mIn definition 1:\u001b[0m\n\u001b[1m    All templates rejected without literals.\u001b[0m\n\u001b[1mIn definition 2:\u001b[0m\n\u001b[1m    All templates rejected with literals.\u001b[0m\n\u001b[1mIn definition 3:\u001b[0m\n\u001b[1m    All templates rejected without literals.\u001b[0m\n\u001b[1mIn definition 4:\u001b[0m\n\u001b[1m    All templates rejected with literals.\u001b[0m\n\u001b[1mIn definition 5:\u001b[0m\n\u001b[1m    All templates rejected without literals.\u001b[0m\n\u001b[1mIn definition 6:\u001b[0m\n\u001b[1m    TypeError: cannot index array(float64, 1d, C) with 2 indices: tuple(int64 x 2)\u001b[0m\n    raised from /usr/local/lib/python3.6/dist-packages/numba/typing/arraydecl.py:87\n\u001b[1mIn definition 7:\u001b[0m\n\u001b[1m    TypeError: cannot index array(float64, 1d, C) with 2 indices: tuple(int64 x 2)\u001b[0m\n    raised from /usr/local/lib/python3.6/dist-packages/numba/typing/arraydecl.py:87\n\u001b[1mThis error is usually caused by passing an argument of a type that is unsupported by the named function.\u001b[0m\u001b[0m\n\u001b[0m\u001b[1m[1] During: typing of intrinsic-call at <ipython-input-25-f237a6b9f6bd> (3)\u001b[0m\n\u001b[0m\u001b[1m[2] During: typing of static-get-item at <ipython-input-25-f237a6b9f6bd> (3)\u001b[0m\n\u001b[1m\nFile \"<ipython-input-25-f237a6b9f6bd>\", line 3:\u001b[0m\n\u001b[1mdef mult3x3by3x1(A,v):\n\u001b[1m    return np.array([newDot(A[0][0,1],v)+A[0][2],newDot(A[1][0,1],v)+A[1][2],newDot(A[2][0,1],v)+A[2][2]],  dtype=np.float64)\n\u001b[0m    \u001b[1m^\u001b[0m\u001b[0m\n\nThis is not usually a problem with Numba itself but instead often caused by\nthe use of unsupported features or an issue in resolving types.\n\nTo see Python/NumPy features supported by the latest release of Numba visit:\nhttp://numba.pydata.org/numba-doc/dev/reference/pysupported.html\nand\nhttp://numba.pydata.org/numba-doc/dev/reference/numpysupported.html\n\nFor more information about typing errors and how to debug them visit:\nhttp://numba.pydata.org/numba-doc/latest/user/troubleshoot.html#my-code-doesn-t-compile\n\nIf you think your code should work with Numba, please report the error message\nand traceback, along with a minimal reproducer at:\nhttps://github.com/numba/numba/issues/new\n",
     "output_type": "error",
     "traceback": [
      "\u001b[0;31m---------------------------------------------------------------------------\u001b[0m",
      "\u001b[0;31mTypingError\u001b[0m                               Traceback (most recent call last)",
      "\u001b[0;32m<ipython-input-28-802df526a426>\u001b[0m in \u001b[0;36m<module>\u001b[0;34m()\u001b[0m\n\u001b[1;32m      3\u001b[0m \u001b[0;34m\u001b[0m\u001b[0m\n\u001b[1;32m      4\u001b[0m \u001b[0mget_ipython\u001b[0m\u001b[0;34m(\u001b[0m\u001b[0;34m)\u001b[0m\u001b[0;34m.\u001b[0m\u001b[0mrun_line_magic\u001b[0m\u001b[0;34m(\u001b[0m\u001b[0;34m'timeit'\u001b[0m\u001b[0;34m,\u001b[0m \u001b[0;34m'np.dot(Transformation,Point)'\u001b[0m\u001b[0;34m)\u001b[0m\u001b[0;34m\u001b[0m\u001b[0;34m\u001b[0m\u001b[0m\n\u001b[0;32m----> 5\u001b[0;31m \u001b[0mget_ipython\u001b[0m\u001b[0;34m(\u001b[0m\u001b[0;34m)\u001b[0m\u001b[0;34m.\u001b[0m\u001b[0mrun_line_magic\u001b[0m\u001b[0;34m(\u001b[0m\u001b[0;34m'timeit'\u001b[0m\u001b[0;34m,\u001b[0m \u001b[0;34m'mult3x3by3x1(Transformation,Point)'\u001b[0m\u001b[0;34m)\u001b[0m\u001b[0;34m\u001b[0m\u001b[0;34m\u001b[0m\u001b[0m\n\u001b[0m\u001b[1;32m      6\u001b[0m \u001b[0mget_ipython\u001b[0m\u001b[0;34m(\u001b[0m\u001b[0;34m)\u001b[0m\u001b[0;34m.\u001b[0m\u001b[0mrun_line_magic\u001b[0m\u001b[0;34m(\u001b[0m\u001b[0;34m'timeit'\u001b[0m\u001b[0;34m,\u001b[0m \u001b[0;34m'newDot(Transformation,Point)'\u001b[0m\u001b[0;34m)\u001b[0m\u001b[0;34m\u001b[0m\u001b[0;34m\u001b[0m\u001b[0m\n\u001b[1;32m      7\u001b[0m \u001b[0;31m# %timeit multAv(Transformation,Point)\u001b[0m\u001b[0;34m\u001b[0m\u001b[0;34m\u001b[0m\u001b[0;34m\u001b[0m\u001b[0m\n",
      "\u001b[0;32m/usr/local/lib/python3.6/dist-packages/IPython/core/interactiveshell.py\u001b[0m in \u001b[0;36mrun_line_magic\u001b[0;34m(self, magic_name, line, _stack_depth)\u001b[0m\n\u001b[1;32m   2093\u001b[0m                 \u001b[0mkwargs\u001b[0m\u001b[0;34m[\u001b[0m\u001b[0;34m'local_ns'\u001b[0m\u001b[0;34m]\u001b[0m \u001b[0;34m=\u001b[0m \u001b[0msys\u001b[0m\u001b[0;34m.\u001b[0m\u001b[0m_getframe\u001b[0m\u001b[0;34m(\u001b[0m\u001b[0mstack_depth\u001b[0m\u001b[0;34m)\u001b[0m\u001b[0;34m.\u001b[0m\u001b[0mf_locals\u001b[0m\u001b[0;34m\u001b[0m\u001b[0;34m\u001b[0m\u001b[0m\n\u001b[1;32m   2094\u001b[0m             \u001b[0;32mwith\u001b[0m \u001b[0mself\u001b[0m\u001b[0;34m.\u001b[0m\u001b[0mbuiltin_trap\u001b[0m\u001b[0;34m:\u001b[0m\u001b[0;34m\u001b[0m\u001b[0;34m\u001b[0m\u001b[0m\n\u001b[0;32m-> 2095\u001b[0;31m                 \u001b[0mresult\u001b[0m \u001b[0;34m=\u001b[0m \u001b[0mfn\u001b[0m\u001b[0;34m(\u001b[0m\u001b[0;34m*\u001b[0m\u001b[0margs\u001b[0m\u001b[0;34m,\u001b[0m\u001b[0;34m**\u001b[0m\u001b[0mkwargs\u001b[0m\u001b[0;34m)\u001b[0m\u001b[0;34m\u001b[0m\u001b[0;34m\u001b[0m\u001b[0m\n\u001b[0m\u001b[1;32m   2096\u001b[0m             \u001b[0;32mreturn\u001b[0m \u001b[0mresult\u001b[0m\u001b[0;34m\u001b[0m\u001b[0;34m\u001b[0m\u001b[0m\n\u001b[1;32m   2097\u001b[0m \u001b[0;34m\u001b[0m\u001b[0m\n",
      "\u001b[0;32m<decorator-gen-61>\u001b[0m in \u001b[0;36mtimeit\u001b[0;34m(self, line, cell, local_ns)\u001b[0m\n",
      "\u001b[0;32m/usr/local/lib/python3.6/dist-packages/IPython/core/magic.py\u001b[0m in \u001b[0;36m<lambda>\u001b[0;34m(f, *a, **k)\u001b[0m\n\u001b[1;32m    185\u001b[0m     \u001b[0;31m# but it's overkill for just that one bit of state.\u001b[0m\u001b[0;34m\u001b[0m\u001b[0;34m\u001b[0m\u001b[0;34m\u001b[0m\u001b[0m\n\u001b[1;32m    186\u001b[0m     \u001b[0;32mdef\u001b[0m \u001b[0mmagic_deco\u001b[0m\u001b[0;34m(\u001b[0m\u001b[0marg\u001b[0m\u001b[0;34m)\u001b[0m\u001b[0;34m:\u001b[0m\u001b[0;34m\u001b[0m\u001b[0;34m\u001b[0m\u001b[0m\n\u001b[0;32m--> 187\u001b[0;31m         \u001b[0mcall\u001b[0m \u001b[0;34m=\u001b[0m \u001b[0;32mlambda\u001b[0m \u001b[0mf\u001b[0m\u001b[0;34m,\u001b[0m \u001b[0;34m*\u001b[0m\u001b[0ma\u001b[0m\u001b[0;34m,\u001b[0m \u001b[0;34m**\u001b[0m\u001b[0mk\u001b[0m\u001b[0;34m:\u001b[0m \u001b[0mf\u001b[0m\u001b[0;34m(\u001b[0m\u001b[0;34m*\u001b[0m\u001b[0ma\u001b[0m\u001b[0;34m,\u001b[0m \u001b[0;34m**\u001b[0m\u001b[0mk\u001b[0m\u001b[0;34m)\u001b[0m\u001b[0;34m\u001b[0m\u001b[0;34m\u001b[0m\u001b[0m\n\u001b[0m\u001b[1;32m    188\u001b[0m \u001b[0;34m\u001b[0m\u001b[0m\n\u001b[1;32m    189\u001b[0m         \u001b[0;32mif\u001b[0m \u001b[0mcallable\u001b[0m\u001b[0;34m(\u001b[0m\u001b[0marg\u001b[0m\u001b[0;34m)\u001b[0m\u001b[0;34m:\u001b[0m\u001b[0;34m\u001b[0m\u001b[0;34m\u001b[0m\u001b[0m\n",
      "\u001b[0;32m/usr/local/lib/python3.6/dist-packages/IPython/core/magics/execution.py\u001b[0m in \u001b[0;36mtimeit\u001b[0;34m(self, line, cell, local_ns)\u001b[0m\n\u001b[1;32m   1096\u001b[0m             \u001b[0;32mfor\u001b[0m \u001b[0mindex\u001b[0m \u001b[0;32min\u001b[0m \u001b[0mrange\u001b[0m\u001b[0;34m(\u001b[0m\u001b[0;36m0\u001b[0m\u001b[0;34m,\u001b[0m \u001b[0;36m10\u001b[0m\u001b[0;34m)\u001b[0m\u001b[0;34m:\u001b[0m\u001b[0;34m\u001b[0m\u001b[0;34m\u001b[0m\u001b[0m\n\u001b[1;32m   1097\u001b[0m                 \u001b[0mnumber\u001b[0m \u001b[0;34m=\u001b[0m \u001b[0;36m10\u001b[0m \u001b[0;34m**\u001b[0m \u001b[0mindex\u001b[0m\u001b[0;34m\u001b[0m\u001b[0;34m\u001b[0m\u001b[0m\n\u001b[0;32m-> 1098\u001b[0;31m                 \u001b[0mtime_number\u001b[0m \u001b[0;34m=\u001b[0m \u001b[0mtimer\u001b[0m\u001b[0;34m.\u001b[0m\u001b[0mtimeit\u001b[0m\u001b[0;34m(\u001b[0m\u001b[0mnumber\u001b[0m\u001b[0;34m)\u001b[0m\u001b[0;34m\u001b[0m\u001b[0;34m\u001b[0m\u001b[0m\n\u001b[0m\u001b[1;32m   1099\u001b[0m                 \u001b[0;32mif\u001b[0m \u001b[0mtime_number\u001b[0m \u001b[0;34m>=\u001b[0m \u001b[0;36m0.2\u001b[0m\u001b[0;34m:\u001b[0m\u001b[0;34m\u001b[0m\u001b[0;34m\u001b[0m\u001b[0m\n\u001b[1;32m   1100\u001b[0m                     \u001b[0;32mbreak\u001b[0m\u001b[0;34m\u001b[0m\u001b[0;34m\u001b[0m\u001b[0m\n",
      "\u001b[0;32m/usr/local/lib/python3.6/dist-packages/IPython/core/magics/execution.py\u001b[0m in \u001b[0;36mtimeit\u001b[0;34m(self, number)\u001b[0m\n\u001b[1;32m    158\u001b[0m         \u001b[0mgc\u001b[0m\u001b[0;34m.\u001b[0m\u001b[0mdisable\u001b[0m\u001b[0;34m(\u001b[0m\u001b[0;34m)\u001b[0m\u001b[0;34m\u001b[0m\u001b[0;34m\u001b[0m\u001b[0m\n\u001b[1;32m    159\u001b[0m         \u001b[0;32mtry\u001b[0m\u001b[0;34m:\u001b[0m\u001b[0;34m\u001b[0m\u001b[0;34m\u001b[0m\u001b[0m\n\u001b[0;32m--> 160\u001b[0;31m             \u001b[0mtiming\u001b[0m \u001b[0;34m=\u001b[0m \u001b[0mself\u001b[0m\u001b[0;34m.\u001b[0m\u001b[0minner\u001b[0m\u001b[0;34m(\u001b[0m\u001b[0mit\u001b[0m\u001b[0;34m,\u001b[0m \u001b[0mself\u001b[0m\u001b[0;34m.\u001b[0m\u001b[0mtimer\u001b[0m\u001b[0;34m)\u001b[0m\u001b[0;34m\u001b[0m\u001b[0;34m\u001b[0m\u001b[0m\n\u001b[0m\u001b[1;32m    161\u001b[0m         \u001b[0;32mfinally\u001b[0m\u001b[0;34m:\u001b[0m\u001b[0;34m\u001b[0m\u001b[0;34m\u001b[0m\u001b[0m\n\u001b[1;32m    162\u001b[0m             \u001b[0;32mif\u001b[0m \u001b[0mgcold\u001b[0m\u001b[0;34m:\u001b[0m\u001b[0;34m\u001b[0m\u001b[0;34m\u001b[0m\u001b[0m\n",
      "\u001b[0;32m<magic-timeit>\u001b[0m in \u001b[0;36minner\u001b[0;34m(_it, _timer)\u001b[0m\n",
      "\u001b[0;32m/usr/local/lib/python3.6/dist-packages/numba/dispatcher.py\u001b[0m in \u001b[0;36m_compile_for_args\u001b[0;34m(self, *args, **kws)\u001b[0m\n\u001b[1;32m    348\u001b[0m                 \u001b[0me\u001b[0m\u001b[0;34m.\u001b[0m\u001b[0mpatch_message\u001b[0m\u001b[0;34m(\u001b[0m\u001b[0mmsg\u001b[0m\u001b[0;34m)\u001b[0m\u001b[0;34m\u001b[0m\u001b[0;34m\u001b[0m\u001b[0m\n\u001b[1;32m    349\u001b[0m \u001b[0;34m\u001b[0m\u001b[0m\n\u001b[0;32m--> 350\u001b[0;31m             \u001b[0merror_rewrite\u001b[0m\u001b[0;34m(\u001b[0m\u001b[0me\u001b[0m\u001b[0;34m,\u001b[0m \u001b[0;34m'typing'\u001b[0m\u001b[0;34m)\u001b[0m\u001b[0;34m\u001b[0m\u001b[0;34m\u001b[0m\u001b[0m\n\u001b[0m\u001b[1;32m    351\u001b[0m         \u001b[0;32mexcept\u001b[0m \u001b[0merrors\u001b[0m\u001b[0;34m.\u001b[0m\u001b[0mUnsupportedError\u001b[0m \u001b[0;32mas\u001b[0m \u001b[0me\u001b[0m\u001b[0;34m:\u001b[0m\u001b[0;34m\u001b[0m\u001b[0;34m\u001b[0m\u001b[0m\n\u001b[1;32m    352\u001b[0m             \u001b[0;31m# Something unsupported is present in the user code, add help info\u001b[0m\u001b[0;34m\u001b[0m\u001b[0;34m\u001b[0m\u001b[0;34m\u001b[0m\u001b[0m\n",
      "\u001b[0;32m/usr/local/lib/python3.6/dist-packages/numba/dispatcher.py\u001b[0m in \u001b[0;36merror_rewrite\u001b[0;34m(e, issue_type)\u001b[0m\n\u001b[1;32m    315\u001b[0m                 \u001b[0;32mraise\u001b[0m \u001b[0me\u001b[0m\u001b[0;34m\u001b[0m\u001b[0;34m\u001b[0m\u001b[0m\n\u001b[1;32m    316\u001b[0m             \u001b[0;32melse\u001b[0m\u001b[0;34m:\u001b[0m\u001b[0;34m\u001b[0m\u001b[0;34m\u001b[0m\u001b[0m\n\u001b[0;32m--> 317\u001b[0;31m                 \u001b[0mreraise\u001b[0m\u001b[0;34m(\u001b[0m\u001b[0mtype\u001b[0m\u001b[0;34m(\u001b[0m\u001b[0me\u001b[0m\u001b[0;34m)\u001b[0m\u001b[0;34m,\u001b[0m \u001b[0me\u001b[0m\u001b[0;34m,\u001b[0m \u001b[0;32mNone\u001b[0m\u001b[0;34m)\u001b[0m\u001b[0;34m\u001b[0m\u001b[0;34m\u001b[0m\u001b[0m\n\u001b[0m\u001b[1;32m    318\u001b[0m \u001b[0;34m\u001b[0m\u001b[0m\n\u001b[1;32m    319\u001b[0m         \u001b[0margtypes\u001b[0m \u001b[0;34m=\u001b[0m \u001b[0;34m[\u001b[0m\u001b[0;34m]\u001b[0m\u001b[0;34m\u001b[0m\u001b[0;34m\u001b[0m\u001b[0m\n",
      "\u001b[0;32m/usr/local/lib/python3.6/dist-packages/numba/six.py\u001b[0m in \u001b[0;36mreraise\u001b[0;34m(tp, value, tb)\u001b[0m\n\u001b[1;32m    656\u001b[0m             \u001b[0mvalue\u001b[0m \u001b[0;34m=\u001b[0m \u001b[0mtp\u001b[0m\u001b[0;34m(\u001b[0m\u001b[0;34m)\u001b[0m\u001b[0;34m\u001b[0m\u001b[0;34m\u001b[0m\u001b[0m\n\u001b[1;32m    657\u001b[0m         \u001b[0;32mif\u001b[0m \u001b[0mvalue\u001b[0m\u001b[0;34m.\u001b[0m\u001b[0m__traceback__\u001b[0m \u001b[0;32mis\u001b[0m \u001b[0;32mnot\u001b[0m \u001b[0mtb\u001b[0m\u001b[0;34m:\u001b[0m\u001b[0;34m\u001b[0m\u001b[0;34m\u001b[0m\u001b[0m\n\u001b[0;32m--> 658\u001b[0;31m             \u001b[0;32mraise\u001b[0m \u001b[0mvalue\u001b[0m\u001b[0;34m.\u001b[0m\u001b[0mwith_traceback\u001b[0m\u001b[0;34m(\u001b[0m\u001b[0mtb\u001b[0m\u001b[0;34m)\u001b[0m\u001b[0;34m\u001b[0m\u001b[0;34m\u001b[0m\u001b[0m\n\u001b[0m\u001b[1;32m    659\u001b[0m         \u001b[0;32mraise\u001b[0m \u001b[0mvalue\u001b[0m\u001b[0;34m\u001b[0m\u001b[0;34m\u001b[0m\u001b[0m\n\u001b[1;32m    660\u001b[0m \u001b[0;34m\u001b[0m\u001b[0m\n",
      "\u001b[0;31mTypingError\u001b[0m: Failed in nopython mode pipeline (step: nopython frontend)\n\u001b[1m\u001b[1m\u001b[1mInvalid use of Function(<built-in function getitem>) with argument(s) of type(s): (array(float64, 1d, C), tuple(int64 x 2))\n * parameterized\n\u001b[1mIn definition 0:\u001b[0m\n\u001b[1m    All templates rejected with literals.\u001b[0m\n\u001b[1mIn definition 1:\u001b[0m\n\u001b[1m    All templates rejected without literals.\u001b[0m\n\u001b[1mIn definition 2:\u001b[0m\n\u001b[1m    All templates rejected with literals.\u001b[0m\n\u001b[1mIn definition 3:\u001b[0m\n\u001b[1m    All templates rejected without literals.\u001b[0m\n\u001b[1mIn definition 4:\u001b[0m\n\u001b[1m    All templates rejected with literals.\u001b[0m\n\u001b[1mIn definition 5:\u001b[0m\n\u001b[1m    All templates rejected without literals.\u001b[0m\n\u001b[1mIn definition 6:\u001b[0m\n\u001b[1m    TypeError: cannot index array(float64, 1d, C) with 2 indices: tuple(int64 x 2)\u001b[0m\n    raised from /usr/local/lib/python3.6/dist-packages/numba/typing/arraydecl.py:87\n\u001b[1mIn definition 7:\u001b[0m\n\u001b[1m    TypeError: cannot index array(float64, 1d, C) with 2 indices: tuple(int64 x 2)\u001b[0m\n    raised from /usr/local/lib/python3.6/dist-packages/numba/typing/arraydecl.py:87\n\u001b[1mThis error is usually caused by passing an argument of a type that is unsupported by the named function.\u001b[0m\u001b[0m\n\u001b[0m\u001b[1m[1] During: typing of intrinsic-call at <ipython-input-25-f237a6b9f6bd> (3)\u001b[0m\n\u001b[0m\u001b[1m[2] During: typing of static-get-item at <ipython-input-25-f237a6b9f6bd> (3)\u001b[0m\n\u001b[1m\nFile \"<ipython-input-25-f237a6b9f6bd>\", line 3:\u001b[0m\n\u001b[1mdef mult3x3by3x1(A,v):\n\u001b[1m    return np.array([newDot(A[0][0,1],v)+A[0][2],newDot(A[1][0,1],v)+A[1][2],newDot(A[2][0,1],v)+A[2][2]],  dtype=np.float64)\n\u001b[0m    \u001b[1m^\u001b[0m\u001b[0m\n\nThis is not usually a problem with Numba itself but instead often caused by\nthe use of unsupported features or an issue in resolving types.\n\nTo see Python/NumPy features supported by the latest release of Numba visit:\nhttp://numba.pydata.org/numba-doc/dev/reference/pysupported.html\nand\nhttp://numba.pydata.org/numba-doc/dev/reference/numpysupported.html\n\nFor more information about typing errors and how to debug them visit:\nhttp://numba.pydata.org/numba-doc/latest/user/troubleshoot.html#my-code-doesn-t-compile\n\nIf you think your code should work with Numba, please report the error message\nand traceback, along with a minimal reproducer at:\nhttps://github.com/numba/numba/issues/new\n"
     ]
    }
   ],
   "source": [
    "Transformation = np.array([[rd.random(),rd.random(),rd.random()],[rd.random(),rd.random(),rd.random()],[rd.random(),rd.random(),rd.random()]])\n",
    "Point = np.array([rd.random(),rd.random(),1])\n",
    "\n",
    "%timeit np.dot(Transformation,Point)\n",
    "%timeit mult3x3by3x1(Transformation,Point)\n",
    "%timeit newDot(Transformation,Point)\n",
    "# %timeit multAv(Transformation,Point)"
   ]
  },
  {
   "cell_type": "code",
   "execution_count": 73,
   "metadata": {
    "collapsed": false
   },
   "outputs": [
    {
     "name": "stdout",
     "output_type": "stream",
     "text": [
      "bushfrandur\n",
      "bushdurfran\n",
      "franbushdur\n",
      "frandurbush\n",
      "durbushfran\n",
      "durfranbush\n",
      "bushfranham\n",
      "bushhamfran\n",
      "franbushham\n",
      "franhambush\n",
      "hambushfran\n",
      "hamfranbush\n",
      "bushcisdur\n",
      "bushdurcis\n",
      "cisbushdur\n",
      "cisdurbush\n",
      "durbushcis\n",
      "durcisbush\n",
      "bushcisham\n",
      "bushhamcis\n",
      "cisbushham\n",
      "cishambush\n",
      "hambushcis\n",
      "hamcisbush\n",
      "wayfrandur\n",
      "waydurfran\n",
      "franwaydur\n",
      "frandurway\n",
      "durwayfran\n",
      "durfranway\n",
      "wayfranham\n",
      "wayhamfran\n",
      "franwayham\n",
      "franhamway\n",
      "hamwayfran\n",
      "hamfranway\n",
      "waycisdur\n",
      "waydurcis\n",
      "ciswaydur\n",
      "cisdurway\n",
      "durwaycis\n",
      "durcisway\n",
      "waycisham\n",
      "wayhamcis\n",
      "ciswayham\n",
      "cishamway\n",
      "hamwaycis\n",
      "hamcisway\n"
     ]
    }
   ],
   "source": [
    "grace = ['bush','way']\n",
    "peter = ['fran','cis']\n",
    "will = ['dur', 'ham']\n",
    "\n",
    "options = []\n",
    "\n",
    "for i in range(2):\n",
    "    for j in range(2):\n",
    "        for k in range(2):\n",
    "            options = options + list(it.permutations([grace[i],peter[j],will[k]]))\n",
    "\n",
    "for name in options:\n",
    "    print(f'{name[0]}{name[1]}{name[2]}')"
   ]
  },
  {
   "cell_type": "code",
   "execution_count": 35,
   "metadata": {
    "collapsed": false
   },
   "outputs": [
   ],
   "source": [
    "@njit\n",
    "def D(n):\n",
    "    output = np.array([n])\n",
    "    for i in range(1,n):\n",
    "        if (n % i) == 0:\n",
    "            output = np.concatenate((output,np.array([i])))\n",
    "    return output\n",
    "\n",
    "@njit\n",
    "def isPrime(n):\n",
    "    for i in range(2,int(n**0.5)+1):\n",
    "        if n%i==0:\n",
    "            return False\n",
    "    return True\n",
    "\n",
    "@njit\n",
    "def PrimeD(n):\n",
    "    return np.array([i for i in D(n) if isPrime(i) and i!=1])"
   ]
  },
  {
   "cell_type": "code",
   "execution_count": 40,
   "metadata": {
    "collapsed": false
   },
   "outputs": [
   ],
   "source": [
    "def v(g,n,h):\n",
    "    ans = 0\n",
    "    for d in D(n):\n",
    "        p = (((d-1-math.gcd(d,g))//h)+1)*(n/d)\n",
    "        if p > ans:\n",
    "            ans = p\n",
    "    return int(ans)\n",
    "\n",
    "def mu(n,k,l):\n",
    "    stuff = []\n",
    "    for d in D(n):\n",
    "        delta = math.gcd(d,k-l)\n",
    "        r = l*math.ceil((d-delta)/(k+l)) % delta\n",
    "        stuff = stuff + [math.ceil((d-(delta-r))/(k+l))*(n/d)]\n",
    "    return int(max(stuff))"
   ]
  },
  {
   "cell_type": "code",
   "execution_count": 56,
   "metadata": {
    "collapsed": false
   },
   "outputs": [
   ],
   "source": [
    "def muG21(n_1,n_2):\n",
    "    return v(1,n_2,3)*(n_1)"
   ]
  },
  {
   "cell_type": "code",
   "execution_count": 60,
   "metadata": {
    "collapsed": false,
    "scrolled": true
   },
   "outputs": [
    {
     "name": "stdout",
     "output_type": "stream",
     "text": [
      "n_1=2, n_2=2\n",
      "n_1=2, n_2=4\n",
      "n_1=2, n_2=6\n",
      "n_1=2, n_2=8\n",
      "n_1=2, n_2=10\n",
      "n_1=2, n_2=12\n",
      "n_1=2, n_2=14\n",
      "n_1=2, n_2=16\n",
      "n_1=2, n_2=18\n",
      "n_1=2, n_2=20\n",
      "n_1=2, n_2=22\n",
      "n_1=2, n_2=24\n",
      "n_1=2, n_2=26\n",
      "n_1=2, n_2=28\n",
      "n_1=2, n_2=30\n",
      "n_1=2, n_2=32\n",
      "n_1=2, n_2=34\n",
      "n_1=2, n_2=36\n",
      "n_1=2, n_2=38\n",
      "n_1=2, n_2=40\n",
      "n_1=2, n_2=42\n",
      "n_1=2, n_2=44\n",
      "n_1=2, n_2=46\n",
      "n_1=2, n_2=48\n",
      "n_1=2, n_2=50\n",
      "n_1=2, n_2=52\n",
      "n_1=2, n_2=54\n",
      "n_1=2, n_2=56\n",
      "n_1=2, n_2=58\n",
      "n_1=2, n_2=60\n",
      "n_1=2, n_2=62\n",
      "n_1=2, n_2=64\n",
      "n_1=2, n_2=66\n",
      "n_1=2, n_2=68\n",
      "n_1=2, n_2=70\n",
      "n_1=2, n_2=72\n",
      "n_1=2, n_2=74\n",
      "n_1=2, n_2=76\n",
      "n_1=2, n_2=78\n",
      "n_1=2, n_2=80\n",
      "n_1=2, n_2=82\n",
      "n_1=2, n_2=84\n",
      "n_1=2, n_2=86\n",
      "n_1=2, n_2=88\n",
      "n_1=2, n_2=90\n",
      "n_1=2, n_2=92\n",
      "n_1=2, n_2=94\n",
      "n_1=2, n_2=96\n",
      "n_1=2, n_2=98\n",
      "n_1=2, n_2=100\n",
      "n_1=2, n_2=102\n",
      "n_1=2, n_2=104\n",
      "n_1=2, n_2=106\n",
      "n_1=2, n_2=108\n",
      "n_1=2, n_2=110\n",
      "n_1=2, n_2=112\n",
      "n_1=2, n_2=114\n",
      "n_1=2, n_2=116\n",
      "n_1=2, n_2=118\n",
      "n_1=2, n_2=120\n",
      "n_1=2, n_2=122\n",
      "n_1=2, n_2=124\n",
      "n_1=2, n_2=126\n",
      "n_1=2, n_2=128\n",
      "n_1=2, n_2=130\n",
      "n_1=2, n_2=132\n",
      "n_1=2, n_2=134\n",
      "n_1=2, n_2=136\n",
      "n_1=2, n_2=138\n",
      "n_1=2, n_2=140\n",
      "n_1=2, n_2=142\n",
      "n_1=2, n_2=144\n",
      "n_1=2, n_2=146\n",
      "n_1=2, n_2=148\n",
      "n_1=2, n_2=150\n",
      "n_1=2, n_2=152\n",
      "n_1=2, n_2=154\n",
      "n_1=2, n_2=156\n",
      "n_1=2, n_2=158\n",
      "n_1=2, n_2=160\n",
      "n_1=2, n_2=162\n",
      "n_1=2, n_2=164\n",
      "n_1=2, n_2=166\n",
      "n_1=2, n_2=168\n",
      "n_1=2, n_2=170\n",
      "n_1=2, n_2=172\n",
      "n_1=2, n_2=174\n",
      "n_1=2, n_2=176\n",
      "n_1=2, n_2=178\n",
      "n_1=2, n_2=180\n",
      "n_1=2, n_2=182\n",
      "n_1=2, n_2=184\n",
      "n_1=2, n_2=186\n",
      "n_1=2, n_2=188\n",
      "n_1=2, n_2=190\n",
      "n_1=2, n_2=192\n",
      "n_1=2, n_2=194\n",
      "n_1=2, n_2=196\n",
      "n_1=2, n_2=198\n",
      "n_1=2, n_2=200\n",
      "n_1=2, n_2=202\n",
      "n_1=2, n_2=204\n",
      "n_1=2, n_2=206\n",
      "n_1=2, n_2=208\n",
      "n_1=2, n_2=210\n",
      "n_1=2, n_2=212\n",
      "n_1=2, n_2=214\n",
      "n_1=2, n_2=216\n",
      "n_1=2, n_2=218\n",
      "n_1=2, n_2=220\n",
      "n_1=2, n_2=222\n",
      "n_1=2, n_2=224\n",
      "n_1=2, n_2=226\n",
      "n_1=2, n_2=228\n",
      "n_1=2, n_2=230\n",
      "n_1=2, n_2=232\n",
      "n_1=2, n_2=234\n",
      "n_1=2, n_2=236\n",
      "n_1=2, n_2=238\n",
      "n_1=2, n_2=240\n",
      "n_1=2, n_2=242\n",
      "n_1=2, n_2=244\n",
      "n_1=2, n_2=246\n",
      "n_1=2, n_2=248\n",
      "n_1=2, n_2=250\n",
      "n_1=2, n_2=252\n",
      "n_1=2, n_2=254\n",
      "n_1=2, n_2=256\n",
      "n_1=2, n_2=258\n",
      "n_1=2, n_2=260\n",
      "n_1=2, n_2=262\n",
      "n_1=2, n_2=264\n",
      "n_1=2, n_2=266\n",
      "n_1=2, n_2=268\n",
      "n_1=2, n_2=270\n",
      "n_1=2, n_2=272\n",
      "n_1=2, n_2=274\n",
      "n_1=2, n_2=276\n",
      "n_1=2, n_2=278\n",
      "n_1=2, n_2=280\n",
      "n_1=2, n_2=282\n",
      "n_1=2, n_2=284\n",
      "n_1=2, n_2=286\n",
      "n_1=2, n_2=288\n",
      "n_1=2, n_2=290\n",
      "n_1=2, n_2=292\n",
      "n_1=2, n_2=294\n",
      "n_1=2, n_2=296\n",
      "n_1=2, n_2=298\n",
      "n_1=2, n_2=300\n",
      "n_1=2, n_2=302\n",
      "n_1=2, n_2=304\n",
      "n_1=2, n_2=306\n",
      "n_1=2, n_2=308\n",
      "n_1=2, n_2=310\n",
      "n_1=2, n_2=312\n",
      "n_1=2, n_2=314\n",
      "n_1=2, n_2=316\n",
      "n_1=2, n_2=318\n",
      "n_1=2, n_2=320\n",
      "n_1=2, n_2=322\n",
      "n_1=2, n_2=324\n",
      "n_1=2, n_2=326\n",
      "n_1=2, n_2=328\n",
      "n_1=2, n_2=330\n",
      "n_1=2, n_2=332\n",
      "n_1=2, n_2=334\n",
      "n_1=2, n_2=336\n",
      "n_1=2, n_2=338\n",
      "n_1=2, n_2=340\n",
      "n_1=2, n_2=342\n",
      "n_1=2, n_2=344\n",
      "n_1=2, n_2=346\n",
      "n_1=2, n_2=348\n",
      "n_1=2, n_2=350\n",
      "n_1=2, n_2=352\n",
      "n_1=2, n_2=354\n",
      "n_1=2, n_2=356\n",
      "n_1=2, n_2=358\n",
      "n_1=2, n_2=360\n",
      "n_1=2, n_2=362\n",
      "n_1=2, n_2=364\n",
      "n_1=2, n_2=366\n",
      "n_1=2, n_2=368\n",
      "n_1=2, n_2=370\n",
      "n_1=2, n_2=372\n",
      "n_1=2, n_2=374\n",
      "n_1=2, n_2=376\n",
      "n_1=2, n_2=378\n",
      "n_1=2, n_2=380\n",
      "n_1=2, n_2=382\n",
      "n_1=2, n_2=384\n",
      "n_1=2, n_2=386\n",
      "n_1=2, n_2=388\n",
      "n_1=2, n_2=390\n",
      "n_1=2, n_2=392\n",
      "n_1=2, n_2=394\n",
      "n_1=2, n_2=396\n",
      "n_1=2, n_2=398\n",
      "n_1=2, n_2=400\n",
      "n_1=2, n_2=402\n",
      "n_1=2, n_2=404\n",
      "n_1=2, n_2=406\n",
      "n_1=2, n_2=408\n",
      "n_1=2, n_2=410\n",
      "n_1=2, n_2=412\n",
      "n_1=2, n_2=414\n",
      "n_1=2, n_2=416\n",
      "n_1=2, n_2=418\n",
      "n_1=2, n_2=420\n",
      "n_1=2, n_2=422\n",
      "n_1=2, n_2=424\n",
      "n_1=2, n_2=426\n",
      "n_1=2, n_2=428\n",
      "n_1=2, n_2=430\n",
      "n_1=2, n_2=432\n",
      "n_1=2, n_2=434\n",
      "n_1=2, n_2=436\n",
      "n_1=2, n_2=438\n",
      "n_1=2, n_2=440\n",
      "n_1=2, n_2=442\n",
      "n_1=2, n_2=444\n",
      "n_1=2, n_2=446\n",
      "n_1=2, n_2=448\n",
      "n_1=2, n_2=450\n",
      "n_1=2, n_2=452\n",
      "n_1=2, n_2=454\n",
      "n_1=2, n_2=456\n",
      "n_1=2, n_2=458\n",
      "n_1=2, n_2=460\n",
      "n_1=2, n_2=462\n",
      "n_1=2, n_2=464\n",
      "n_1=2, n_2=466\n",
      "n_1=2, n_2=468\n",
      "n_1=2, n_2=470\n",
      "n_1=2, n_2=472\n",
      "n_1=2, n_2=474\n",
      "n_1=2, n_2=476\n",
      "n_1=2, n_2=478\n",
      "n_1=2, n_2=480\n",
      "n_1=2, n_2=482\n",
      "n_1=2, n_2=484\n",
      "n_1=2, n_2=486\n",
      "n_1=2, n_2=488\n",
      "n_1=2, n_2=490\n",
      "n_1=2, n_2=492\n",
      "n_1=2, n_2=494\n",
      "n_1=2, n_2=496\n",
      "n_1=2, n_2=498\n",
      "n_1=2, n_2=500\n",
      "n_1=2, n_2=502\n",
      "n_1=2, n_2=504\n",
      "n_1=2, n_2=506\n",
      "n_1=2, n_2=508\n",
      "n_1=2, n_2=510\n",
      "n_1=2, n_2=512\n",
      "n_1=2, n_2=514\n",
      "n_1=2, n_2=516\n",
      "n_1=2, n_2=518\n",
      "n_1=2, n_2=520\n",
      "n_1=2, n_2=522\n",
      "n_1=2, n_2=524\n",
      "n_1=2, n_2=526\n",
      "n_1=2, n_2=528\n",
      "n_1=2, n_2=530\n",
      "n_1=2, n_2=532\n",
      "n_1=2, n_2=534\n",
      "n_1=2, n_2=536\n",
      "n_1=2, n_2=538\n",
      "n_1=2, n_2=540\n",
      "n_1=2, n_2=542\n",
      "n_1=2, n_2=544\n",
      "n_1=2, n_2=546\n",
      "n_1=2, n_2=548\n",
      "n_1=2, n_2=550\n",
      "n_1=2, n_2=552\n",
      "n_1=2, n_2=554\n",
      "n_1=2, n_2=556\n",
      "n_1=2, n_2=558\n",
      "n_1=2, n_2=560\n",
      "n_1=2, n_2=562\n",
      "n_1=2, n_2=564\n",
      "n_1=2, n_2=566\n",
      "n_1=2, n_2=568\n",
      "n_1=2, n_2=570\n",
      "n_1=2, n_2=572\n",
      "n_1=2, n_2=574\n",
      "n_1=2, n_2=576\n",
      "n_1=2, n_2=578\n",
      "n_1=2, n_2=580\n",
      "n_1=2, n_2=582\n",
      "n_1=2, n_2=584\n",
      "n_1=2, n_2=586\n",
      "n_1=2, n_2=588\n",
      "n_1=2, n_2=590\n",
      "n_1=2, n_2=592\n",
      "n_1=2, n_2=594\n",
      "n_1=2, n_2=596\n",
      "n_1=2, n_2=598\n",
      "n_1=2, n_2=600\n",
      "n_1=2, n_2=602\n",
      "n_1=2, n_2=604\n",
      "n_1=2, n_2=606\n",
      "n_1=2, n_2=608\n",
      "n_1=2, n_2=610\n",
      "n_1=2, n_2=612\n",
      "n_1=2, n_2=614\n",
      "n_1=2, n_2=616\n",
      "n_1=2, n_2=618\n",
      "n_1=2, n_2=620\n",
      "n_1=2, n_2=622\n",
      "n_1=2, n_2=624\n",
      "n_1=2, n_2=626\n",
      "n_1=2, n_2=628\n",
      "n_1=2, n_2=630\n",
      "n_1=2, n_2=632\n",
      "n_1=2, n_2=634\n",
      "n_1=2, n_2=636\n",
      "n_1=2, n_2=638\n",
      "n_1=2, n_2=640\n",
      "n_1=2, n_2=642\n",
      "n_1=2, n_2=644\n",
      "n_1=2, n_2=646\n",
      "n_1=2, n_2=648\n",
      "n_1=2, n_2=650\n",
      "n_1=2, n_2=652\n",
      "n_1=2, n_2=654\n",
      "n_1=2, n_2=656\n",
      "n_1=2, n_2=658\n",
      "n_1=2, n_2=660\n",
      "n_1=2, n_2=662\n",
      "n_1=2, n_2=664\n",
      "n_1=2, n_2=666\n",
      "n_1=2, n_2=668\n",
      "n_1=2, n_2=670\n",
      "n_1=2, n_2=672\n",
      "n_1=2, n_2=674\n",
      "n_1=2, n_2=676\n",
      "n_1=2, n_2=678\n",
      "n_1=2, n_2=680\n",
      "n_1=2, n_2=682\n",
      "n_1=2, n_2=684\n",
      "n_1=2, n_2=686\n",
      "n_1=2, n_2=688\n",
      "n_1=2, n_2=690\n",
      "n_1=2, n_2=692\n",
      "n_1=2, n_2=694\n",
      "n_1=2, n_2=696\n",
      "n_1=2, n_2=698\n",
      "n_1=2, n_2=700\n",
      "n_1=2, n_2=702\n",
      "n_1=2, n_2=704\n",
      "n_1=2, n_2=706\n",
      "n_1=2, n_2=708\n",
      "n_1=2, n_2=710\n",
      "n_1=2, n_2=712\n",
      "n_1=2, n_2=714\n",
      "n_1=2, n_2=716\n",
      "n_1=2, n_2=718\n",
      "n_1=2, n_2=720\n",
      "n_1=2, n_2=722\n",
      "n_1=2, n_2=724\n",
      "n_1=2, n_2=726\n",
      "n_1=2, n_2=728\n",
      "n_1=2, n_2=730\n",
      "n_1=2, n_2=732\n",
      "n_1=2, n_2=734\n",
      "n_1=2, n_2=736\n",
      "n_1=2, n_2=738\n",
      "n_1=2, n_2=740\n",
      "n_1=2, n_2=742\n",
      "n_1=2, n_2=744\n",
      "n_1=2, n_2=746\n",
      "n_1=2, n_2=748\n",
      "n_1=2, n_2=750\n",
      "n_1=2, n_2=752\n",
      "n_1=2, n_2=754\n",
      "n_1=2, n_2=756\n",
      "n_1=2, n_2=758\n",
      "n_1=2, n_2=760\n",
      "n_1=2, n_2=762\n",
      "n_1=2, n_2=764\n",
      "n_1=2, n_2=766\n",
      "n_1=2, n_2=768\n",
      "n_1=2, n_2=770\n",
      "n_1=2, n_2=772\n",
      "n_1=2, n_2=774\n",
      "n_1=2, n_2=776\n",
      "n_1=2, n_2=778\n",
      "n_1=2, n_2=780\n",
      "n_1=2, n_2=782\n",
      "n_1=2, n_2=784\n",
      "n_1=2, n_2=786\n",
      "n_1=2, n_2=788\n",
      "n_1=2, n_2=790\n",
      "n_1=2, n_2=792\n",
      "n_1=2, n_2=794\n",
      "n_1=2, n_2=796\n",
      "n_1=2, n_2=798\n",
      "n_1=2, n_2=800\n",
      "n_1=2, n_2=802\n",
      "n_1=2, n_2=804\n",
      "n_1=2, n_2=806\n",
      "n_1=2, n_2=808\n",
      "n_1=2, n_2=810\n",
      "n_1=2, n_2=812\n",
      "n_1=2, n_2=814\n",
      "n_1=2, n_2=816\n",
      "n_1=2, n_2=818\n",
      "n_1=2, n_2=820\n",
      "n_1=2, n_2=822\n",
      "n_1=2, n_2=824\n",
      "n_1=2, n_2=826\n",
      "n_1=2, n_2=828\n",
      "n_1=2, n_2=830\n",
      "n_1=2, n_2=832\n",
      "n_1=2, n_2=834\n",
      "n_1=2, n_2=836\n",
      "n_1=2, n_2=838\n",
      "n_1=2, n_2=840\n",
      "n_1=2, n_2=842\n",
      "n_1=2, n_2=844\n",
      "n_1=2, n_2=846\n",
      "n_1=2, n_2=848\n",
      "n_1=2, n_2=850\n",
      "n_1=2, n_2=852\n",
      "n_1=2, n_2=854\n",
      "n_1=2, n_2=856\n",
      "n_1=2, n_2=858\n",
      "n_1=2, n_2=860\n",
      "n_1=2, n_2=862\n",
      "n_1=2, n_2=864\n",
      "n_1=2, n_2=866\n",
      "n_1=2, n_2=868\n",
      "n_1=2, n_2=870\n",
      "n_1=2, n_2=872\n",
      "n_1=2, n_2=874\n",
      "n_1=2, n_2=876\n",
      "n_1=2, n_2=878\n",
      "n_1=2, n_2=880\n",
      "n_1=2, n_2=882\n",
      "n_1=2, n_2=884\n",
      "n_1=2, n_2=886\n",
      "n_1=2, n_2=888\n",
      "n_1=2, n_2=890\n",
      "n_1=2, n_2=892\n",
      "n_1=2, n_2=894\n",
      "n_1=2, n_2=896\n",
      "n_1=2, n_2=898\n",
      "n_1=2, n_2=900\n",
      "n_1=2, n_2=902\n",
      "n_1=2, n_2=904\n",
      "n_1=2, n_2=906\n",
      "n_1=2, n_2=908\n",
      "n_1=2, n_2=910\n",
      "n_1=2, n_2=912\n",
      "n_1=2, n_2=914\n",
      "n_1=2, n_2=916\n",
      "n_1=2, n_2=918\n",
      "n_1=2, n_2=920\n",
      "n_1=2, n_2=922\n",
      "n_1=2, n_2=924\n",
      "n_1=2, n_2=926\n",
      "n_1=2, n_2=928\n",
      "n_1=2, n_2=930\n",
      "n_1=2, n_2=932\n",
      "n_1=2, n_2=934\n",
      "n_1=2, n_2=936\n",
      "n_1=2, n_2=938\n",
      "n_1=2, n_2=940\n",
      "n_1=2, n_2=942\n",
      "n_1=2, n_2=944\n",
      "n_1=2, n_2=946\n",
      "n_1=2, n_2=948\n",
      "n_1=2, n_2=950\n",
      "n_1=2, n_2=952\n",
      "n_1=2, n_2=954\n",
      "n_1=2, n_2=956\n",
      "n_1=2, n_2=958\n",
      "n_1=2, n_2=960\n",
      "n_1=2, n_2=962\n",
      "n_1=2, n_2=964\n",
      "n_1=2, n_2=966\n",
      "n_1=2, n_2=968\n",
      "n_1=2, n_2=970\n",
      "n_1=2, n_2=972\n",
      "n_1=2, n_2=974\n",
      "n_1=2, n_2=976\n",
      "n_1=2, n_2=978\n",
      "n_1=2, n_2=980"
     ]
    },
    {
     "name": "stdout",
     "output_type": "stream",
     "text": [
      "\n",
      "n_1=2, n_2=982\n",
      "n_1=2, n_2=984\n",
      "n_1=2, n_2=986\n",
      "n_1=2, n_2=988\n",
      "n_1=2, n_2=990\n",
      "n_1=2, n_2=992\n",
      "n_1=2, n_2=994\n",
      "n_1=2, n_2=996\n",
      "n_1=2, n_2=998\n",
      "n_1=4, n_2=4\n",
      "n_1=4, n_2=8\n",
      "n_1=4, n_2=12\n",
      "n_1=4, n_2=16\n",
      "n_1=4, n_2=20\n",
      "n_1=4, n_2=24\n",
      "n_1=4, n_2=28\n",
      "n_1=4, n_2=32\n",
      "n_1=4, n_2=36\n",
      "n_1=4, n_2=40\n",
      "n_1=4, n_2=44\n",
      "n_1=4, n_2=48\n",
      "n_1=4, n_2=52\n",
      "n_1=4, n_2=56\n",
      "n_1=4, n_2=60\n",
      "n_1=4, n_2=64\n",
      "n_1=4, n_2=68\n",
      "n_1=4, n_2=72\n",
      "n_1=4, n_2=76\n",
      "n_1=4, n_2=80\n",
      "n_1=4, n_2=84\n",
      "n_1=4, n_2=88\n",
      "n_1=4, n_2=92\n",
      "n_1=4, n_2=96\n",
      "n_1=4, n_2=100\n",
      "n_1=4, n_2=104\n",
      "n_1=4, n_2=108\n",
      "n_1=4, n_2=112\n",
      "n_1=4, n_2=116\n",
      "n_1=4, n_2=120\n",
      "n_1=4, n_2=124\n",
      "n_1=4, n_2=128\n",
      "n_1=4, n_2=132\n",
      "n_1=4, n_2=136\n",
      "n_1=4, n_2=140\n",
      "n_1=4, n_2=144\n",
      "n_1=4, n_2=148\n",
      "n_1=4, n_2=152\n",
      "n_1=4, n_2=156\n",
      "n_1=4, n_2=160\n",
      "n_1=4, n_2=164\n",
      "n_1=4, n_2=168\n",
      "n_1=4, n_2=172\n",
      "n_1=4, n_2=176\n",
      "n_1=4, n_2=180\n",
      "n_1=4, n_2=184\n",
      "n_1=4, n_2=188\n",
      "n_1=4, n_2=192\n",
      "n_1=4, n_2=196\n",
      "n_1=4, n_2=200\n",
      "n_1=4, n_2=204\n",
      "n_1=4, n_2=208\n",
      "n_1=4, n_2=212\n",
      "n_1=4, n_2=216\n",
      "n_1=4, n_2=220\n",
      "n_1=4, n_2=224\n",
      "n_1=4, n_2=228\n",
      "n_1=4, n_2=232\n",
      "n_1=4, n_2=236\n",
      "n_1=4, n_2=240\n",
      "n_1=4, n_2=244\n",
      "n_1=4, n_2=248\n",
      "n_1=4, n_2=252\n",
      "n_1=4, n_2=256\n",
      "n_1=4, n_2=260\n",
      "n_1=4, n_2=264\n",
      "n_1=4, n_2=268\n",
      "n_1=4, n_2=272\n",
      "n_1=4, n_2=276\n",
      "n_1=4, n_2=280\n",
      "n_1=4, n_2=284\n",
      "n_1=4, n_2=288\n",
      "n_1=4, n_2=292\n",
      "n_1=4, n_2=296\n",
      "n_1=4, n_2=300\n",
      "n_1=4, n_2=304\n",
      "n_1=4, n_2=308\n",
      "n_1=4, n_2=312\n",
      "n_1=4, n_2=316\n",
      "n_1=4, n_2=320\n",
      "n_1=4, n_2=324\n",
      "n_1=4, n_2=328\n",
      "n_1=4, n_2=332\n",
      "n_1=4, n_2=336\n",
      "n_1=4, n_2=340\n",
      "n_1=4, n_2=344\n",
      "n_1=4, n_2=348\n",
      "n_1=4, n_2=352\n",
      "n_1=4, n_2=356\n",
      "n_1=4, n_2=360\n",
      "n_1=4, n_2=364\n",
      "n_1=4, n_2=368\n",
      "n_1=4, n_2=372\n",
      "n_1=4, n_2=376\n",
      "n_1=4, n_2=380\n",
      "n_1=4, n_2=384\n",
      "n_1=4, n_2=388\n",
      "n_1=4, n_2=392\n",
      "n_1=4, n_2=396\n",
      "n_1=4, n_2=400\n",
      "n_1=4, n_2=404\n",
      "n_1=4, n_2=408\n",
      "n_1=4, n_2=412\n",
      "n_1=4, n_2=416\n",
      "n_1=4, n_2=420\n",
      "n_1=4, n_2=424\n",
      "n_1=4, n_2=428\n",
      "n_1=4, n_2=432\n",
      "n_1=4, n_2=436\n",
      "n_1=4, n_2=440\n",
      "n_1=4, n_2=444\n",
      "n_1=4, n_2=448\n",
      "n_1=4, n_2=452\n",
      "n_1=4, n_2=456\n",
      "n_1=4, n_2=460\n",
      "n_1=4, n_2=464\n",
      "n_1=4, n_2=468\n",
      "n_1=4, n_2=472\n",
      "n_1=4, n_2=476\n",
      "n_1=4, n_2=480\n",
      "n_1=4, n_2=484\n",
      "n_1=4, n_2=488\n",
      "n_1=4, n_2=492\n",
      "n_1=4, n_2=496\n",
      "n_1=4, n_2=500\n",
      "n_1=4, n_2=504\n",
      "n_1=4, n_2=508\n",
      "n_1=4, n_2=512\n",
      "n_1=4, n_2=516\n",
      "n_1=4, n_2=520\n",
      "n_1=4, n_2=524\n",
      "n_1=4, n_2=528\n",
      "n_1=4, n_2=532\n",
      "n_1=4, n_2=536\n",
      "n_1=4, n_2=540\n",
      "n_1=4, n_2=544\n",
      "n_1=4, n_2=548\n",
      "n_1=4, n_2=552\n",
      "n_1=4, n_2=556\n",
      "n_1=4, n_2=560\n",
      "n_1=4, n_2=564\n",
      "n_1=4, n_2=568\n",
      "n_1=4, n_2=572\n",
      "n_1=4, n_2=576\n",
      "n_1=4, n_2=580\n",
      "n_1=4, n_2=584\n",
      "n_1=4, n_2=588\n",
      "n_1=4, n_2=592\n",
      "n_1=4, n_2=596\n",
      "n_1=4, n_2=600\n",
      "n_1=4, n_2=604\n",
      "n_1=4, n_2=608\n",
      "n_1=4, n_2=612\n",
      "n_1=4, n_2=616\n",
      "n_1=4, n_2=620\n",
      "n_1=4, n_2=624\n",
      "n_1=4, n_2=628\n",
      "n_1=4, n_2=632\n",
      "n_1=4, n_2=636\n",
      "n_1=4, n_2=640\n",
      "n_1=4, n_2=644\n",
      "n_1=4, n_2=648\n",
      "n_1=4, n_2=652\n",
      "n_1=4, n_2=656\n",
      "n_1=4, n_2=660\n",
      "n_1=4, n_2=664\n",
      "n_1=4, n_2=668\n",
      "n_1=4, n_2=672\n",
      "n_1=4, n_2=676\n",
      "n_1=4, n_2=680\n",
      "n_1=4, n_2=684\n",
      "n_1=4, n_2=688\n",
      "n_1=4, n_2=692\n",
      "n_1=4, n_2=696\n",
      "n_1=4, n_2=700\n",
      "n_1=4, n_2=704\n",
      "n_1=4, n_2=708\n",
      "n_1=4, n_2=712\n",
      "n_1=4, n_2=716\n",
      "n_1=4, n_2=720\n",
      "n_1=4, n_2=724\n",
      "n_1=4, n_2=728\n",
      "n_1=4, n_2=732\n",
      "n_1=4, n_2=736\n",
      "n_1=4, n_2=740\n",
      "n_1=4, n_2=744\n",
      "n_1=4, n_2=748\n",
      "n_1=4, n_2=752\n",
      "n_1=4, n_2=756\n",
      "n_1=4, n_2=760\n",
      "n_1=4, n_2=764\n",
      "n_1=4, n_2=768\n",
      "n_1=4, n_2=772\n",
      "n_1=4, n_2=776\n",
      "n_1=4, n_2=780\n",
      "n_1=4, n_2=784\n",
      "n_1=4, n_2=788\n",
      "n_1=4, n_2=792\n",
      "n_1=4, n_2=796\n",
      "n_1=4, n_2=800\n",
      "n_1=4, n_2=804\n",
      "n_1=4, n_2=808\n",
      "n_1=4, n_2=812\n",
      "n_1=4, n_2=816\n",
      "n_1=4, n_2=820\n",
      "n_1=4, n_2=824\n",
      "n_1=4, n_2=828\n",
      "n_1=4, n_2=832\n",
      "n_1=4, n_2=836\n",
      "n_1=4, n_2=840\n",
      "n_1=4, n_2=844\n",
      "n_1=4, n_2=848\n",
      "n_1=4, n_2=852\n",
      "n_1=4, n_2=856\n",
      "n_1=4, n_2=860\n",
      "n_1=4, n_2=864\n",
      "n_1=4, n_2=868\n",
      "n_1=4, n_2=872\n",
      "n_1=4, n_2=876\n",
      "n_1=4, n_2=880\n",
      "n_1=4, n_2=884\n",
      "n_1=4, n_2=888\n",
      "n_1=4, n_2=892\n",
      "n_1=4, n_2=896\n",
      "n_1=4, n_2=900\n",
      "n_1=4, n_2=904\n",
      "n_1=4, n_2=908\n",
      "n_1=4, n_2=912\n",
      "n_1=4, n_2=916\n",
      "n_1=4, n_2=920\n",
      "n_1=4, n_2=924\n",
      "n_1=4, n_2=928\n",
      "n_1=4, n_2=932\n",
      "n_1=4, n_2=936\n",
      "n_1=4, n_2=940\n",
      "n_1=4, n_2=944\n",
      "n_1=4, n_2=948\n",
      "n_1=4, n_2=952\n",
      "n_1=4, n_2=956\n",
      "n_1=4, n_2=960\n",
      "n_1=4, n_2=964\n",
      "n_1=4, n_2=968\n",
      "n_1=4, n_2=972\n",
      "n_1=4, n_2=976\n",
      "n_1=4, n_2=980\n",
      "n_1=4, n_2=984\n",
      "n_1=4, n_2=988\n",
      "n_1=4, n_2=992\n",
      "n_1=4, n_2=996\n",
      "n_1=6, n_2=6\n",
      "n_1=6, n_2=12\n",
      "n_1=6, n_2=18\n",
      "n_1=6, n_2=24\n",
      "n_1=6, n_2=30\n",
      "n_1=6, n_2=36\n",
      "n_1=6, n_2=42\n",
      "n_1=6, n_2=48\n",
      "n_1=6, n_2=54\n",
      "n_1=6, n_2=60\n",
      "n_1=6, n_2=66\n",
      "n_1=6, n_2=72\n",
      "n_1=6, n_2=78\n",
      "n_1=6, n_2=84\n",
      "n_1=6, n_2=90\n",
      "n_1=6, n_2=96\n",
      "n_1=6, n_2=102\n",
      "n_1=6, n_2=108\n",
      "n_1=6, n_2=114\n",
      "n_1=6, n_2=120\n",
      "n_1=6, n_2=126\n",
      "n_1=6, n_2=132\n",
      "n_1=6, n_2=138\n",
      "n_1=6, n_2=144\n",
      "n_1=6, n_2=150\n",
      "n_1=6, n_2=156\n",
      "n_1=6, n_2=162\n",
      "n_1=6, n_2=168\n",
      "n_1=6, n_2=174\n",
      "n_1=6, n_2=180\n",
      "n_1=6, n_2=186\n",
      "n_1=6, n_2=192\n",
      "n_1=6, n_2=198\n",
      "n_1=6, n_2=204\n",
      "n_1=6, n_2=210\n",
      "n_1=6, n_2=216\n",
      "n_1=6, n_2=222\n",
      "n_1=6, n_2=228\n",
      "n_1=6, n_2=234\n",
      "n_1=6, n_2=240\n",
      "n_1=6, n_2=246\n",
      "n_1=6, n_2=252\n",
      "n_1=6, n_2=258\n",
      "n_1=6, n_2=264\n",
      "n_1=6, n_2=270\n",
      "n_1=6, n_2=276\n",
      "n_1=6, n_2=282\n",
      "n_1=6, n_2=288\n",
      "n_1=6, n_2=294\n",
      "n_1=6, n_2=300\n",
      "n_1=6, n_2=306\n",
      "n_1=6, n_2=312\n",
      "n_1=6, n_2=318\n",
      "n_1=6, n_2=324\n",
      "n_1=6, n_2=330\n",
      "n_1=6, n_2=336\n",
      "n_1=6, n_2=342\n"
     ]
    },
    {
     "name": "stdout",
     "output_type": "stream",
     "text": [
      "n_1=6, n_2=348\n",
      "n_1=6, n_2=354\n",
      "n_1=6, n_2=360\n",
      "n_1=6, n_2=366\n",
      "n_1=6, n_2=372\n",
      "n_1=6, n_2=378\n",
      "n_1=6, n_2=384\n",
      "n_1=6, n_2=390\n",
      "n_1=6, n_2=396\n",
      "n_1=6, n_2=402\n",
      "n_1=6, n_2=408\n",
      "n_1=6, n_2=414\n",
      "n_1=6, n_2=420\n",
      "n_1=6, n_2=426\n",
      "n_1=6, n_2=432\n",
      "n_1=6, n_2=438\n",
      "n_1=6, n_2=444\n",
      "n_1=6, n_2=450\n",
      "n_1=6, n_2=456\n",
      "n_1=6, n_2=462\n",
      "n_1=6, n_2=468\n",
      "n_1=6, n_2=474\n",
      "n_1=6, n_2=480\n",
      "n_1=6, n_2=486\n",
      "n_1=6, n_2=492\n",
      "n_1=6, n_2=498\n",
      "n_1=6, n_2=504\n",
      "n_1=6, n_2=510\n",
      "n_1=6, n_2=516\n",
      "n_1=6, n_2=522\n",
      "n_1=6, n_2=528\n",
      "n_1=6, n_2=534\n",
      "n_1=6, n_2=540\n",
      "n_1=6, n_2=546\n",
      "n_1=6, n_2=552\n",
      "n_1=6, n_2=558\n",
      "n_1=6, n_2=564\n",
      "n_1=6, n_2=570\n",
      "n_1=6, n_2=576\n",
      "n_1=6, n_2=582\n",
      "n_1=6, n_2=588\n",
      "n_1=6, n_2=594\n",
      "n_1=6, n_2=600\n",
      "n_1=6, n_2=606\n",
      "n_1=6, n_2=612\n",
      "n_1=6, n_2=618\n",
      "n_1=6, n_2=624\n",
      "n_1=6, n_2=630\n",
      "n_1=6, n_2=636\n",
      "n_1=6, n_2=642\n",
      "n_1=6, n_2=648\n",
      "n_1=6, n_2=654\n",
      "n_1=6, n_2=660\n",
      "n_1=6, n_2=666\n",
      "n_1=6, n_2=672\n",
      "n_1=6, n_2=678\n",
      "n_1=6, n_2=684\n",
      "n_1=6, n_2=690\n",
      "n_1=6, n_2=696\n",
      "n_1=6, n_2=702\n",
      "n_1=6, n_2=708\n",
      "n_1=6, n_2=714\n",
      "n_1=6, n_2=720\n",
      "n_1=6, n_2=726\n",
      "n_1=6, n_2=732\n",
      "n_1=6, n_2=738\n",
      "n_1=6, n_2=744\n",
      "n_1=6, n_2=750\n",
      "n_1=6, n_2=756\n",
      "n_1=6, n_2=762\n",
      "n_1=6, n_2=768\n",
      "n_1=6, n_2=774\n",
      "n_1=6, n_2=780\n",
      "n_1=6, n_2=786\n",
      "n_1=6, n_2=792\n",
      "n_1=6, n_2=798\n",
      "n_1=6, n_2=804\n",
      "n_1=6, n_2=810\n",
      "n_1=6, n_2=816\n",
      "n_1=6, n_2=822\n",
      "n_1=6, n_2=828\n",
      "n_1=6, n_2=834\n",
      "n_1=6, n_2=840\n",
      "n_1=6, n_2=846\n",
      "n_1=6, n_2=852\n",
      "n_1=6, n_2=858\n",
      "n_1=6, n_2=864\n",
      "n_1=6, n_2=870\n",
      "n_1=6, n_2=876\n",
      "n_1=6, n_2=882\n",
      "n_1=6, n_2=888\n",
      "n_1=6, n_2=894\n",
      "n_1=6, n_2=900\n",
      "n_1=6, n_2=906\n",
      "n_1=6, n_2=912\n",
      "n_1=6, n_2=918\n",
      "n_1=6, n_2=924\n",
      "n_1=6, n_2=930\n",
      "n_1=6, n_2=936\n",
      "n_1=6, n_2=942\n",
      "n_1=6, n_2=948\n",
      "n_1=6, n_2=954\n",
      "n_1=6, n_2=960\n",
      "n_1=6, n_2=966\n",
      "n_1=6, n_2=972\n",
      "n_1=6, n_2=978\n",
      "n_1=6, n_2=984\n",
      "n_1=6, n_2=990\n",
      "n_1=6, n_2=996\n",
      "n_1=8, n_2=8\n",
      "n_1=8, n_2=16\n",
      "n_1=8, n_2=24\n",
      "n_1=8, n_2=32\n",
      "n_1=8, n_2=40\n",
      "n_1=8, n_2=48\n",
      "n_1=8, n_2=56\n",
      "n_1=8, n_2=64\n",
      "n_1=8, n_2=72\n",
      "n_1=8, n_2=80\n",
      "n_1=8, n_2=88\n",
      "n_1=8, n_2=96\n",
      "n_1=8, n_2=104\n",
      "n_1=8, n_2=112\n",
      "n_1=8, n_2=120\n",
      "n_1=8, n_2=128\n",
      "n_1=8, n_2=136\n",
      "n_1=8, n_2=144\n",
      "n_1=8, n_2=152\n",
      "n_1=8, n_2=160\n",
      "n_1=8, n_2=168\n",
      "n_1=8, n_2=176\n",
      "n_1=8, n_2=184\n",
      "n_1=8, n_2=192\n",
      "n_1=8, n_2=200\n",
      "n_1=8, n_2=208\n",
      "n_1=8, n_2=216\n",
      "n_1=8, n_2=224\n",
      "n_1=8, n_2=232\n",
      "n_1=8, n_2=240\n",
      "n_1=8, n_2=248\n",
      "n_1=8, n_2=256\n",
      "n_1=8, n_2=264\n",
      "n_1=8, n_2=272\n",
      "n_1=8, n_2=280\n",
      "n_1=8, n_2=288\n",
      "n_1=8, n_2=296\n",
      "n_1=8, n_2=304\n",
      "n_1=8, n_2=312\n",
      "n_1=8, n_2=320\n",
      "n_1=8, n_2=328\n",
      "n_1=8, n_2=336\n",
      "n_1=8, n_2=344\n",
      "n_1=8, n_2=352\n",
      "n_1=8, n_2=360\n",
      "n_1=8, n_2=368\n",
      "n_1=8, n_2=376\n",
      "n_1=8, n_2=384\n",
      "n_1=8, n_2=392\n",
      "n_1=8, n_2=400\n",
      "n_1=8, n_2=408\n",
      "n_1=8, n_2=416\n",
      "n_1=8, n_2=424\n",
      "n_1=8, n_2=432\n",
      "n_1=8, n_2=440\n",
      "n_1=8, n_2=448\n",
      "n_1=8, n_2=456\n",
      "n_1=8, n_2=464\n",
      "n_1=8, n_2=472\n",
      "n_1=8, n_2=480\n",
      "n_1=8, n_2=488\n",
      "n_1=8, n_2=496\n",
      "n_1=8, n_2=504\n",
      "n_1=8, n_2=512\n",
      "n_1=8, n_2=520\n",
      "n_1=8, n_2=528\n",
      "n_1=8, n_2=536\n",
      "n_1=8, n_2=544\n",
      "n_1=8, n_2=552\n",
      "n_1=8, n_2=560\n",
      "n_1=8, n_2=568\n",
      "n_1=8, n_2=576\n",
      "n_1=8, n_2=584\n",
      "n_1=8, n_2=592\n",
      "n_1=8, n_2=600\n",
      "n_1=8, n_2=608\n",
      "n_1=8, n_2=616\n",
      "n_1=8, n_2=624\n",
      "n_1=8, n_2=632\n",
      "n_1=8, n_2=640\n",
      "n_1=8, n_2=648\n",
      "n_1=8, n_2=656\n",
      "n_1=8, n_2=664\n",
      "n_1=8, n_2=672\n",
      "n_1=8, n_2=680\n",
      "n_1=8, n_2=688\n",
      "n_1=8, n_2=696\n",
      "n_1=8, n_2=704\n",
      "n_1=8, n_2=712\n",
      "n_1=8, n_2=720\n",
      "n_1=8, n_2=728\n",
      "n_1=8, n_2=736\n",
      "n_1=8, n_2=744\n",
      "n_1=8, n_2=752\n",
      "n_1=8, n_2=760\n",
      "n_1=8, n_2=768\n",
      "n_1=8, n_2=776\n",
      "n_1=8, n_2=784\n",
      "n_1=8, n_2=792\n",
      "n_1=8, n_2=800\n",
      "n_1=8, n_2=808\n",
      "n_1=8, n_2=816\n",
      "n_1=8, n_2=824\n",
      "n_1=8, n_2=832\n",
      "n_1=8, n_2=840\n",
      "n_1=8, n_2=848\n",
      "n_1=8, n_2=856\n",
      "n_1=8, n_2=864\n",
      "n_1=8, n_2=872\n",
      "n_1=8, n_2=880\n",
      "n_1=8, n_2=888\n",
      "n_1=8, n_2=896\n",
      "n_1=8, n_2=904\n",
      "n_1=8, n_2=912\n",
      "n_1=8, n_2=920\n",
      "n_1=8, n_2=928\n",
      "n_1=8, n_2=936\n",
      "n_1=8, n_2=944\n",
      "n_1=8, n_2=952\n",
      "n_1=8, n_2=960\n",
      "n_1=8, n_2=968\n",
      "n_1=8, n_2=976\n",
      "n_1=8, n_2=984\n",
      "n_1=8, n_2=992\n",
      "n_1=10, n_2=10\n",
      "n_1=10, n_2=20\n",
      "n_1=10, n_2=30\n",
      "n_1=10, n_2=40\n",
      "n_1=10, n_2=50\n",
      "n_1=10, n_2=60\n",
      "n_1=10, n_2=70\n",
      "n_1=10, n_2=80"
     ]
    },
    {
     "name": "stderr",
     "output_type": "stream",
     "text": [
      "WARNING: Some output was deleted.\n"
     ]
    }
   ],
   "source": [
    "for n_1 in range(2,1000,2):\n",
    "    for n_2 in range(2,1000,2):\n",
    "        if n_2 % n_1 == 0:\n",
    "            if (n_1*n_2)/2 == muG21(n_1,n_2):\n",
    "                print(f'n_1={n_1}, n_2={n_2}')"
   ]
  },
  {
   "cell_type": "code",
   "execution_count": 54,
   "metadata": {
    "collapsed": false
   },
   "outputs": [
    {
     "data": {
      "text/plain": [
       "64"
      ]
     },
     "execution_count": 54,
     "metadata": {
     },
     "output_type": "execute_result"
    }
   ],
   "source": [
    "muG21(8,16)"
   ]
  },
  {
   "cell_type": "code",
   "execution_count": 43,
   "metadata": {
    "collapsed": false
   },
   "outputs": [
    {
     "data": {
      "text/plain": [
       "18"
      ]
     },
     "execution_count": 43,
     "metadata": {
     },
     "output_type": "execute_result"
    }
   ],
   "source": [
    "v(1,15,3)*3"
   ]
  },
  {
   "cell_type": "code",
   "execution_count": 44,
   "metadata": {
    "collapsed": false
   },
   "outputs": [
    {
     "data": {
      "text/plain": [
       "18"
      ]
     },
     "execution_count": 44,
     "metadata": {
     },
     "output_type": "execute_result"
    }
   ],
   "source": [
    "mu(15,2,1)*3"
   ]
  },
  {
   "cell_type": "code",
   "execution_count": 37,
   "metadata": {
    "collapsed": false
   },
   "outputs": [
    {
     "data": {
      "text/plain": [
       "array([2, 5])"
      ]
     },
     "execution_count": 37,
     "metadata": {
     },
     "output_type": "execute_result"
    }
   ],
   "source": [
    "PrimeD(10)"
   ]
  },
  {
   "cell_type": "code",
   "execution_count": 49,
   "metadata": {
    "collapsed": false,
    "scrolled": true
   },
   "outputs": [
    {
     "name": "stdout",
     "output_type": "stream",
     "text": [
      "25\n"
     ]
    },
    {
     "ename": "StopIteration",
     "evalue": "Found one",
     "output_type": "error",
     "traceback": [
      "\u001b[0;31m---------------------------------------------------------------------------\u001b[0m",
      "\u001b[0;31mStopIteration\u001b[0m                             Traceback (most recent call last)",
      "\u001b[0;32m<ipython-input-49-af2848022ffc>\u001b[0m in \u001b[0;36m<module>\u001b[0;34m()\u001b[0m\n\u001b[1;32m      3\u001b[0m         \u001b[0;32mif\u001b[0m \u001b[0;34m(\u001b[0m\u001b[0mPrimeD\u001b[0m\u001b[0;34m(\u001b[0m\u001b[0mi\u001b[0m\u001b[0;34m)\u001b[0m \u001b[0;34m%\u001b[0m \u001b[0;36m3\u001b[0m \u001b[0;34m==\u001b[0m \u001b[0;36m2\u001b[0m\u001b[0;34m)\u001b[0m\u001b[0;34m.\u001b[0m\u001b[0many\u001b[0m\u001b[0;34m(\u001b[0m\u001b[0;34m)\u001b[0m\u001b[0;34m:\u001b[0m\u001b[0;34m\u001b[0m\u001b[0;34m\u001b[0m\u001b[0m\n\u001b[1;32m      4\u001b[0m             \u001b[0mprint\u001b[0m\u001b[0;34m(\u001b[0m\u001b[0mi\u001b[0m\u001b[0;34m)\u001b[0m\u001b[0;34m\u001b[0m\u001b[0;34m\u001b[0m\u001b[0m\n\u001b[0;32m----> 5\u001b[0;31m             \u001b[0;32mraise\u001b[0m \u001b[0mStopIteration\u001b[0m\u001b[0;34m(\u001b[0m\u001b[0;34m'Found one'\u001b[0m\u001b[0;34m)\u001b[0m\u001b[0;34m\u001b[0m\u001b[0;34m\u001b[0m\u001b[0m\n\u001b[0m",
      "\u001b[0;31mStopIteration\u001b[0m: Found one"
     ]
    }
   ],
   "source": [
    "for i in range(10000000):\n",
    "    if i % 6 == 1:\n",
    "        if (PrimeD(i) % 3 == 2).any():\n",
    "            print(i)\n",
    "            raise StopIteration('Found one')"
   ]
  },
  {
   "cell_type": "code",
   "execution_count": 50,
   "metadata": {
    "collapsed": false,
    "scrolled": true
   },
   "outputs": [
    {
     "ename": "KeyboardInterrupt",
     "evalue": "",
     "output_type": "error",
     "traceback": [
      "\u001b[0;31m---------------------------------------------------------------------------\u001b[0m",
      "\u001b[0;31mKeyboardInterrupt\u001b[0m                         Traceback (most recent call last)",
      "\u001b[0;32m<ipython-input-50-1f62264aa687>\u001b[0m in \u001b[0;36m<module>\u001b[0;34m()\u001b[0m\n\u001b[1;32m      1\u001b[0m \u001b[0;32mfor\u001b[0m \u001b[0mi\u001b[0m \u001b[0;32min\u001b[0m \u001b[0mrange\u001b[0m\u001b[0;34m(\u001b[0m\u001b[0;36m1000000\u001b[0m\u001b[0;34m)\u001b[0m\u001b[0;34m:\u001b[0m\u001b[0;34m\u001b[0m\u001b[0;34m\u001b[0m\u001b[0m\n\u001b[0;32m----> 2\u001b[0;31m     \u001b[0;32mif\u001b[0m \u001b[0;34m(\u001b[0m\u001b[0mPrimeD\u001b[0m\u001b[0;34m(\u001b[0m\u001b[0;36m3\u001b[0m\u001b[0;34m*\u001b[0m\u001b[0mi\u001b[0m\u001b[0;34m)\u001b[0m \u001b[0;34m%\u001b[0m \u001b[0;36m3\u001b[0m \u001b[0;34m==\u001b[0m \u001b[0;36m2\u001b[0m\u001b[0;34m)\u001b[0m\u001b[0;34m.\u001b[0m\u001b[0many\u001b[0m\u001b[0;34m(\u001b[0m\u001b[0;34m)\u001b[0m\u001b[0;34m:\u001b[0m\u001b[0;34m\u001b[0m\u001b[0;34m\u001b[0m\u001b[0m\n\u001b[0m\u001b[1;32m      3\u001b[0m         \u001b[0;32mif\u001b[0m \u001b[0;36m3\u001b[0m\u001b[0;34m*\u001b[0m\u001b[0mi\u001b[0m \u001b[0;34m%\u001b[0m \u001b[0;36m3\u001b[0m \u001b[0;34m==\u001b[0m \u001b[0;36m2\u001b[0m\u001b[0;34m:\u001b[0m\u001b[0;34m\u001b[0m\u001b[0;34m\u001b[0m\u001b[0m\n\u001b[1;32m      4\u001b[0m             \u001b[0mprint\u001b[0m\u001b[0;34m(\u001b[0m\u001b[0mi\u001b[0m\u001b[0;34m)\u001b[0m\u001b[0;34m\u001b[0m\u001b[0;34m\u001b[0m\u001b[0m\n",
      "\u001b[0;31mKeyboardInterrupt\u001b[0m: "
     ]
    }
   ],
   "source": [
    "for i in range(1000000):\n",
    "    if (PrimeD(3*i) % 3 == 2).any():\n",
    "        if 3*i % 3 == 2:\n",
    "            print(i)"
   ]
  },
  {
   "cell_type": "code",
   "execution_count": 0,
   "metadata": {
    "collapsed": false
   },
   "outputs": [
   ],
   "source": [
    "for k in range(1000):\n",
    "    for l in range(k+1,1000):\n",
    "        if "
   ]
  },
  {
   "cell_type": "code",
   "execution_count": 0,
   "metadata": {
    "collapsed": false
   },
   "outputs": [
   ],
   "source": [
   ]
  }
 ],
 "metadata": {
  "kernelspec": {
   "display_name": "Python 3 (system-wide)",
   "language": "python",
   "metadata": {
    "cocalc": {
     "description": "Python 3 programming language",
     "priority": 100,
     "url": "https://www.python.org/"
    }
   },
   "name": "python3"
  },
  "language_info": {
   "codemirror_mode": {
    "name": "ipython",
    "version": 3
   },
   "file_extension": ".py",
   "mimetype": "text/x-python",
   "name": "python",
   "nbconvert_exporter": "python",
   "pygments_lexer": "ipython3",
   "version": "3.6.8"
  }
 },
 "nbformat": 4,
 "nbformat_minor": 0
}